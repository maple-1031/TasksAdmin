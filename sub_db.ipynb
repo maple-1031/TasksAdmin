{
 "cells": [
  {
   "cell_type": "code",
   "execution_count": 2,
   "metadata": {},
   "outputs": [],
   "source": [
    "from IPython.display import clear_output\n",
    "import sqlite3\n",
    "from selenium import webdriver\n",
    "from selenium.webdriver.common.keys import Keys\n",
    "import time\n",
    "import icecream"
   ]
  },
  {
   "cell_type": "code",
   "execution_count": null,
   "metadata": {},
   "outputs": [],
   "source": [
    "driver = webdriver.Chrome(\"D:\\\\Users\\\\maple\\\\Python\\\\chromedriver_win32\\\\chromedriver.exe\")\n",
    "driver.get(\"https://gslbs.adst.keio.ac.jp/list/List_Time_AllSeason.php\")"
   ]
  },
  {
   "cell_type": "code",
   "execution_count": 528,
   "metadata": {},
   "outputs": [],
   "source": [
    "day_list = [\"月\", \"火\", \"水\", \"木\", \"金\", \"土\"]\n",
    "per_list = [\"１\", \"２\", \"３\", \"４\", \"５\", \"６\", \"７\"]\n",
    "class Subject:\n",
    "    def __init__(self, sub_name):\n",
    "        self.subid = None\n",
    "        self.sub = sub_name\n",
    "        self.lecturer = None\n",
    "        self.day = None\n",
    "        self.period = None\n",
    "        self.semest = None\n",
    "        \n",
    "    def day_conv(self, sub_per):\n",
    "        for i in range(6):\n",
    "            if sub_per[0] in day_list:\n",
    "                if sub_per[0] == day_list[i]:\n",
    "                    self.day = i\n",
    "            else:\n",
    "                self.day = 99\n",
    "                \n",
    "    def per_conv(self, sub_per):\n",
    "        for i in range(7):\n",
    "            if sub_per[1] in per_list:\n",
    "                if sub_per[1] == per_list[i]:\n",
    "                    self.period = i\n",
    "            else:\n",
    "                self.period = 99\n",
    "                \n",
    "    def id_conv(self, id_per):\n",
    "        err_flg = False\n",
    "        try:\n",
    "            ret = id_per.split(\" \")[1][:5]\n",
    "        except:\n",
    "            ret = 99999\n",
    "        print(ret)\n",
    "        try:\n",
    "            int(ret)\n",
    "        except:\n",
    "            err_flg = True\n",
    "            \n",
    "        if ret == \"S\":\n",
    "            ret = id_per.split(\" \")[3][:5]\n",
    "        elif err_flg:\n",
    "            ret = 99999\n",
    "        return ret"
   ]
  },
  {
   "cell_type": "code",
   "execution_count": 49,
   "metadata": {},
   "outputs": [
    {
     "name": "stderr",
     "output_type": "stream",
     "text": [
      "<ipython-input-49-883345b4cce6>:3: DeprecationWarning: use driver.switch_to.frame instead\n",
      "  driver.switch_to_frame(frame)\n"
     ]
    }
   ],
   "source": [
    "driver.switch_to.window(driver.window_handles[0])\n",
    "frame = driver.find_element_by_xpath(\"//frameset/frame\")\n",
    "driver.switch_to_frame(frame)\n",
    "\n",
    "mon = driver.find_element_by_xpath(\"//*[@id=\\\"tab_sp0\\\"]/a\")\n",
    "tue = driver.find_element_by_xpath(\"//*[@id=\\\"tab_sp1\\\"]/a\")\n",
    "wed = driver.find_element_by_xpath(\"//*[@id=\\\"tab_sp2\\\"]/a\")\n",
    "thu = driver.find_element_by_xpath(\"//*[@id=\\\"tab_sp3\\\"]/a\")\n",
    "fri = driver.find_element_by_xpath(\"//*[@id=\\\"tab_sp4\\\"]/a\")\n",
    "sat = driver.find_element_by_xpath(\"//*[@id=\\\"tab_sp5\\\"]/a\")"
   ]
  },
  {
   "cell_type": "code",
   "execution_count": 586,
   "metadata": {},
   "outputs": [],
   "source": [
    "day_tab_list = [driver.find_element_by_xpath(\"//*[@id=\\\"tab_sp0\\\"]/a\"),\n",
    "               driver.find_element_by_xpath(\"//*[@id=\\\"tab_sp1\\\"]/a\"),\n",
    "               driver.find_element_by_xpath(\"//*[@id=\\\"tab_sp2\\\"]/a\"),\n",
    "               driver.find_element_by_xpath(\"//*[@id=\\\"tab_sp3\\\"]/a\"),\n",
    "               driver.find_element_by_xpath(\"//*[@id=\\\"tab_sp4\\\"]/a\"),\n",
    "               driver.find_element_by_xpath(\"//*[@id=\\\"tab_sp5\\\"]/a\")]\n",
    "\n",
    "day_click_list = [driver.find_element_by_xpath(\"//*[@id=\\\"sp0\\\"]/tbody\"),\n",
    "                 driver.find_element_by_xpath(\"//*[@id=\\\"sp1\\\"]/tbody\"),\n",
    "                 driver.find_element_by_xpath(\"//*[@id=\\\"sp2\\\"]/tbody\"),\n",
    "                 driver.find_element_by_xpath(\"//*[@id=\\\"sp3\\\"]/tbody\"),\n",
    "                 driver.find_element_by_xpath(\"//*[@id=\\\"sp4\\\"]/tbody\"),\n",
    "                 driver.find_element_by_xpath(\"//*[@id=\\\"sp5\\\"]/tbody\")]"
   ]
  },
  {
   "cell_type": "code",
   "execution_count": null,
   "metadata": {},
   "outputs": [],
   "source": [
    "driver.switch_to.window(driver.window_handles[0])\n",
    "frame = driver.find_element_by_xpath(\"//frameset/frame\")\n",
    "driver.switch_to_frame(frame)\n",
    "day_tab_list[0].click()"
   ]
  },
  {
   "cell_type": "code",
   "execution_count": 642,
   "metadata": {},
   "outputs": [],
   "source": [
    "def discrimination(n, pre, click_flg, cont_flg):\n",
    "    global global_pre\n",
    "    if click_flg:\n",
    "        if cont_flg:\n",
    "            return int(n + pre)\n",
    "        else:\n",
    "            global_pre //= 2\n",
    "            return int(n + pre/2)\n",
    "    else:\n",
    "        if cont_flg:\n",
    "            return int(n - pre)\n",
    "        else:\n",
    "            global_pre //= 2\n",
    "            return int(n - pre/2)        "
   ]
  },
  {
   "cell_type": "code",
   "execution_count": 399,
   "metadata": {},
   "outputs": [],
   "source": [
    "def cont_disc(pre, post):\n",
    "    if pre == post:\n",
    "        return True\n",
    "    else:\n",
    "        return False"
   ]
  },
  {
   "cell_type": "code",
   "execution_count": 575,
   "metadata": {},
   "outputs": [
    {
     "name": "stderr",
     "output_type": "stream",
     "text": [
      "<ipython-input-575-1a072b87066f>:4: DeprecationWarning: use driver.switch_to.frame instead\n",
      "  driver.switch_to_frame(frame)\n"
     ]
    }
   ],
   "source": [
    "driver.switch_to.window(driver.window_handles[0])\n",
    "\n",
    "frame = driver.find_element_by_xpath(\"//frameset/frame\")\n",
    "driver.switch_to_frame(frame)"
   ]
  },
  {
   "cell_type": "markdown",
   "metadata": {},
   "source": [
    "----"
   ]
  },
  {
   "cell_type": "code",
   "execution_count": 653,
   "metadata": {},
   "outputs": [],
   "source": [
    "conn = sqlite3.connect('subs_hiyoshi_m.db')\n",
    "c = conn.cursor()"
   ]
  },
  {
   "cell_type": "code",
   "execution_count": 654,
   "metadata": {},
   "outputs": [
    {
     "data": {
      "text/plain": [
       "<sqlite3.Cursor at 0x26c6503dd50>"
      ]
     },
     "execution_count": 654,
     "metadata": {},
     "output_type": "execute_result"
    }
   ],
   "source": [
    "c.execute(\"\"\"CREATE TABLE subs_0(subid int,sub char,lecturer char,day int,period int,semest char)\"\"\")\n",
    "c.execute(\"\"\"CREATE TABLE subs_1(subid int,sub char,lecturer char,day int,period int,semest char)\"\"\")\n",
    "c.execute(\"\"\"CREATE TABLE subs_2(subid int,sub char,lecturer char,day int,period int,semest char)\"\"\")\n",
    "c.execute(\"\"\"CREATE TABLE subs_3(subid int,sub char,lecturer char,day int,period int,semest char)\"\"\")\n",
    "c.execute(\"\"\"CREATE TABLE subs_4(subid int,sub char,lecturer char,day int,period int,semest char)\"\"\")\n",
    "c.execute(\"\"\"CREATE TABLE subs_5(subid int,sub char,lecturer char,day int,period int,semest char)\"\"\")\n",
    "c.execute(\"\"\"CREATE TABLE subs_fin(subid int,sub char,lecturer char,day int,period int,semest char)\"\"\")"
   ]
  },
  {
   "cell_type": "code",
   "execution_count": null,
   "metadata": {},
   "outputs": [],
   "source": [
    "driver.switch_to.window(driver.window_handles[0])\n",
    "frame = driver.find_element_by_xpath(\"//frameset/frame\")\n",
    "driver.switch_to_frame(frame)\n",
    "\n",
    "sub_list = driver.find_elements_by_xpath(\"//td[@class=\\\"time_cont\\\"]/div/span/a[@href=\\\"#\\\"]\")\n",
    "\n",
    "try:\n",
    "    driver.find_element_by_xpath(\"//*[@id=\\\"tab_sp5\\\"]/a\")\n",
    "except:\n",
    "    day_tab_list = [driver.find_element_by_xpath(\"//*[@id=\\\"tab_sp0\\\"]/a\"),\n",
    "                   driver.find_element_by_xpath(\"//*[@id=\\\"tab_sp1\\\"]/a\"),\n",
    "                   driver.find_element_by_xpath(\"//*[@id=\\\"tab_sp2\\\"]/a\"),\n",
    "                   driver.find_element_by_xpath(\"//*[@id=\\\"tab_sp3\\\"]/a\"),\n",
    "                   driver.find_element_by_xpath(\"//*[@id=\\\"tab_sp4\\\"]/a\")]\n",
    "\n",
    "    day_click_list = [driver.find_element_by_xpath(\"//*[@id=\\\"sp0\\\"]/tbody\"),\n",
    "                     driver.find_element_by_xpath(\"//*[@id=\\\"sp1\\\"]/tbody\"),\n",
    "                     driver.find_element_by_xpath(\"//*[@id=\\\"sp2\\\"]/tbody\"),\n",
    "                     driver.find_element_by_xpath(\"//*[@id=\\\"sp3\\\"]/tbody\"),\n",
    "                     driver.find_element_by_xpath(\"//*[@id=\\\"sp4\\\"]/tbody\")]\n",
    "    day_in_week = 5\n",
    "\n",
    "else:\n",
    "    try:\n",
    "        driver.find_element_by_xpath(\"//*[@id=\\\"tab_sp6\\\"]/a\")\n",
    "    except:\n",
    "        day_tab_list = [driver.find_element_by_xpath(\"//*[@id=\\\"tab_sp0\\\"]/a\"),\n",
    "                       driver.find_element_by_xpath(\"//*[@id=\\\"tab_sp1\\\"]/a\"),\n",
    "                       driver.find_element_by_xpath(\"//*[@id=\\\"tab_sp2\\\"]/a\"),\n",
    "                       driver.find_element_by_xpath(\"//*[@id=\\\"tab_sp3\\\"]/a\"),\n",
    "                       driver.find_element_by_xpath(\"//*[@id=\\\"tab_sp4\\\"]/a\"),\n",
    "                       driver.find_element_by_xpath(\"//*[@id=\\\"tab_sp5\\\"]/a\")]\n",
    "\n",
    "        day_click_list = [driver.find_element_by_xpath(\"//*[@id=\\\"sp0\\\"]/tbody\"),\n",
    "                         driver.find_element_by_xpath(\"//*[@id=\\\"sp1\\\"]/tbody\"),\n",
    "                         driver.find_element_by_xpath(\"//*[@id=\\\"sp2\\\"]/tbody\"),\n",
    "                         driver.find_element_by_xpath(\"//*[@id=\\\"sp3\\\"]/tbody\"),\n",
    "                         driver.find_element_by_xpath(\"//*[@id=\\\"sp4\\\"]/tbody\"),\n",
    "                         driver.find_element_by_xpath(\"//*[@id=\\\"sp5\\\"]/tbody\")]\n",
    "        day_in_week = 6\n",
    "        \n",
    "    else:\n",
    "        day_tab_list = [driver.find_element_by_xpath(\"//*[@id=\\\"tab_sp0\\\"]/a\"),\n",
    "                       driver.find_element_by_xpath(\"//*[@id=\\\"tab_sp1\\\"]/a\"),\n",
    "                       driver.find_element_by_xpath(\"//*[@id=\\\"tab_sp2\\\"]/a\"),\n",
    "                       driver.find_element_by_xpath(\"//*[@id=\\\"tab_sp3\\\"]/a\"),\n",
    "                       driver.find_element_by_xpath(\"//*[@id=\\\"tab_sp4\\\"]/a\"),\n",
    "                       driver.find_element_by_xpath(\"//*[@id=\\\"tab_sp5\\\"]/a\"),\n",
    "                       driver.find_element_by_xpath(\"//*[@id=\\\"tab_sp6\\\"]/a\")]\n",
    "\n",
    "        day_click_list = [driver.find_element_by_xpath(\"//*[@id=\\\"sp0\\\"]/tbody\"),\n",
    "                         driver.find_element_by_xpath(\"//*[@id=\\\"sp1\\\"]/tbody\"),\n",
    "                         driver.find_element_by_xpath(\"//*[@id=\\\"sp2\\\"]/tbody\"),\n",
    "                         driver.find_element_by_xpath(\"//*[@id=\\\"sp3\\\"]/tbody\"),\n",
    "                         driver.find_element_by_xpath(\"//*[@id=\\\"sp4\\\"]/tbody\"),\n",
    "                         driver.find_element_by_xpath(\"//*[@id=\\\"sp5\\\"]/tbody\"),\n",
    "                         driver.find_element_by_xpath(\"//*[@id=\\\"sp6\\\"]/tbody\")]\n",
    "        day_in_week = 7\n",
    "\n",
    "driver.switch_to.window(driver.window_handles[0])\n",
    "driver.switch_to_frame(frame)\n",
    "day_tab_list[0].click()\n",
    "driver.switch_to.window(driver.window_handles[0])\n",
    "driver.switch_to_frame(frame)\n",
    "day_click_list[0].click()\n",
    "\n",
    "driver.switch_to.window(driver.window_handles[0])\n",
    "driver.switch_to_frame(frame)\n",
    "driver.find_element_by_xpath(\"/html\").send_keys(Keys.HOME)\n",
    "\n",
    "step = 10\n",
    "\n",
    "day_split = [0]\n",
    "global global_pre\n",
    "global_pre = step\n",
    "flg = True\n",
    "mem = 0\n",
    "print(len(sub_list))\n",
    "for i in range(day_in_week-1):\n",
    "    n = int((len(sub_list) / 6) + mem)\n",
    "    \n",
    "    if n > len(sub_list):\n",
    "        n = len(sub_list)\n",
    "        \n",
    "    while True:\n",
    "        time.sleep(0.5)\n",
    "        try:\n",
    "            sub_list[n].click()\n",
    "        except:\n",
    "            print(f\"{n} not clickable pre:{global_pre} mem:{mem}\")\n",
    "            #clear_output(wait=True)\n",
    "            n = discrimination(n, global_pre, False, cont_disc(flg, False))\n",
    "            flg = False\n",
    "            driver.switch_to.window(driver.window_handles[0])\n",
    "            frame = driver.find_element_by_xpath(\"//frameset/frame\")\n",
    "            driver.switch_to_frame(frame)\n",
    "        else:\n",
    "            print(f\"{n} clickable pre:{global_pre} mem:{mem}\")\n",
    "            #clear_output(wait=True)\n",
    "            n = discrimination(n, global_pre, True, cont_disc(flg, True))\n",
    "            flg = True\n",
    "            driver.switch_to.window(driver.window_handles[1])\n",
    "            time.sleep(0.1)\n",
    "            driver.close()\n",
    "            driver.switch_to.window(driver.window_handles[0])\n",
    "            frame = driver.find_element_by_xpath(\"//frameset/frame\")\n",
    "            driver.switch_to_frame(frame)\n",
    "            \n",
    "        if global_pre == 0:\n",
    "            day_split.append(n+1)\n",
    "            print(f\"append {n+1}\")\n",
    "            mem = n+1\n",
    "            #clear_output(wait=True)\n",
    "            break\n",
    "            \n",
    "    if i != (day_in_week - 1):\n",
    "        day_tab_list[i+1].click()\n",
    "        driver.switch_to.window(driver.window_handles[0])\n",
    "        frame = driver.find_element_by_xpath(\"//frameset/frame\")\n",
    "        driver.switch_to_frame(frame)\n",
    "        day_click_list[i+1].click()\n",
    "\n",
    "        driver.switch_to.window(driver.window_handles[0])\n",
    "        frame = driver.find_element_by_xpath(\"//frameset/frame\")\n",
    "        driver.switch_to_frame(frame)\n",
    "        driver.find_element_by_xpath(\"/html\").send_keys(Keys.HOME)\n",
    "        time.sleep(0.1)\n",
    "        \n",
    "        try:\n",
    "            driver.switch_to.window(driver.window_handles[1])\n",
    "        except:\n",
    "            pass\n",
    "        else:\n",
    "            time.sleep(0.1)\n",
    "            driver.close()\n",
    "            driver.switch_to.window(driver.window_handles[0])\n",
    "        \n",
    "        #initialize\n",
    "        global_pre = step\n",
    "        flg = True\n",
    "    \n",
    "day_split.append(len(sub_list))\n",
    "print(day_split)"
   ]
  },
  {
   "cell_type": "code",
   "execution_count": 665,
   "metadata": {},
   "outputs": [
    {
     "name": "stdout",
     "output_type": "stream",
     "text": [
      "単位処理時間：0.372174528661537 秒\n",
      "推定残り時間：00 分 00 秒\n",
      "2537\n"
     ]
    }
   ],
   "source": [
    "driver.switch_to.window(driver.window_handles[0])\n",
    "frame = driver.find_element_by_xpath(\"//frameset/frame\")\n",
    "driver.switch_to_frame(frame)\n",
    "day_tab_list[0].click()\n",
    "day_click_list[0].click()\n",
    "driver.find_element_by_xpath(\"/html\").send_keys(Keys.HOME)\n",
    "time.sleep(0.5)\n",
    "\n",
    "start = time.time()\n",
    "\n",
    "cnt = 0\n",
    "\n",
    "for i in range(day_in_week):\n",
    "    for element in sub_list[day_split[i]:day_split[i+1]]:\n",
    "        subid_pre = element.text\n",
    "        print(subid_pre)\n",
    "        element.click()\n",
    "\n",
    "        driver.switch_to.window(driver.window_handles[1])\n",
    "        try:\n",
    "            sub_name = driver.find_element_by_xpath(\"//*[@id=\\\"View_header\\\"]/tbody/tr[2]/td[1]\").text\n",
    "        except:\n",
    "            comm = \"INSERT INTO subs_0 VALUES(99999, \\\"?????\\\", \\\"?????\\\", 9, 9, \\\"?????\\\")\"\n",
    "        else:\n",
    "            sub_obj = Subject(sub_name)\n",
    "            sub_obj.subid = sub_obj.id_conv(subid_pre)\n",
    "            sub_obj.lecturer = driver.find_element_by_xpath(\"//*[@id=\\\"View_header\\\"]/tbody/tr[4]/td[1]/div[1]/span[@class=\\\"pdf_name\\\"]\").text\n",
    "            day_period = driver.find_element_by_xpath(\"//*[@id=\\\"View_header\\\"]/tbody/tr[2]/td[3]\").text\n",
    "            sub_obj.day_conv(day_period)\n",
    "            sub_obj.per_conv(day_period)\n",
    "            sub_obj.semest = driver.find_element_by_xpath(\"//*[@id=\\\"View_header\\\"]/tbody/tr[2]/td[2]\").text\n",
    "\n",
    "            comm = f\"INSERT INTO subs_0 VALUES({sub_obj.subid}, \\\"{sub_obj.sub}\\\", \\\"{sub_obj.lecturer}\\\", {sub_obj.day}, {sub_obj.period}, \\\"{sub_obj.semest}\\\")\"\n",
    "        print(comm)\n",
    "\n",
    "        c.execute(comm)\n",
    "        driver.close()\n",
    "        driver.switch_to.window(driver.window_handles[0])\n",
    "        driver.switch_to_frame(frame)\n",
    "        clear_output(wait=True)\n",
    "\n",
    "        cnt += 1\n",
    "        elapsed_time = time.time() - start\n",
    "        avg_time = elapsed_time / cnt\n",
    "        estm_remain_time = avg_time * (len(sub_list)-cnt)\n",
    "        estm_remain_min = str(int(estm_remain_time//60)).zfill(2)\n",
    "        estm_remain_sec = str(int(estm_remain_time%60)).zfill(2)\n",
    "        print(f\"単位処理時間：{avg_time} 秒\")\n",
    "        print(f\"推定残り時間：{estm_remain_min} 分 {estm_remain_sec} 秒\")\n",
    "\n",
    "    if i != (day_in_week - 1):\n",
    "        day_tab_list[i+1].click()\n",
    "        driver.switch_to.window(driver.window_handles[0])\n",
    "        driver.switch_to_frame(frame)\n",
    "        day_click_list[i+1].click()\n",
    "\n",
    "        driver.switch_to.window(driver.window_handles[0])\n",
    "        driver.switch_to_frame(frame)\n",
    "        driver.find_element_by_xpath(\"/html\").send_keys(Keys.HOME)\n",
    "\n",
    "        time.sleep(0.5) #これ重要だった\n",
    "    \n",
    "conn.commit()\n",
    "\n",
    "row_list = []\n",
    "for row in c.execute('SELECT * FROM subs_0'):\n",
    "    row_list.append(row)\n",
    "\n",
    "for row in c.execute('SELECT * FROM subs_1'):\n",
    "    row_list.append(row)\n",
    "\n",
    "for row in c.execute('SELECT * FROM subs_2'):\n",
    "    row_list.append(row)\n",
    "\n",
    "for row in c.execute('SELECT * FROM subs_3'):\n",
    "    row_list.append(row)\n",
    "\n",
    "for row in c.execute('SELECT * FROM subs_4'):\n",
    "    row_list.append(row)\n",
    "    \n",
    "for row in c.execute('SELECT * FROM subs_5'):\n",
    "    row_list.append(row)\n",
    "    \n",
    "comm = 'insert into subs_fin(subid, sub, lecturer, day, period, semest) values (?,?,?,?,?,?)'\n",
    "print(len(row_list))"
   ]
  },
  {
   "cell_type": "code",
   "execution_count": 666,
   "metadata": {},
   "outputs": [
    {
     "data": {
      "text/plain": [
       "<sqlite3.Cursor at 0x26c6503dd50>"
      ]
     },
     "execution_count": 666,
     "metadata": {},
     "output_type": "execute_result"
    }
   ],
   "source": [
    "c.executemany(comm, row_list)"
   ]
  },
  {
   "cell_type": "code",
   "execution_count": 90,
   "metadata": {},
   "outputs": [],
   "source": [
    "conn.close()"
   ]
  },
  {
   "cell_type": "markdown",
   "metadata": {},
   "source": [
    "---"
   ]
  },
  {
   "cell_type": "code",
   "execution_count": 88,
   "metadata": {},
   "outputs": [],
   "source": [
    "conn = sqlite3.connect('subs_2020.db')\n",
    "c = conn.cursor()"
   ]
  },
  {
   "cell_type": "code",
   "execution_count": null,
   "metadata": {},
   "outputs": [],
   "source": [
    "c.execute(\"\"\"CREATE TABLE subs(subid int,sub char,lecturer char,day int,period int,semest char)\"\"\")"
   ]
  },
  {
   "cell_type": "code",
   "execution_count": 17,
   "metadata": {},
   "outputs": [],
   "source": [
    "row_distinct_list = []"
   ]
  },
  {
   "cell_type": "code",
   "execution_count": 78,
   "metadata": {},
   "outputs": [
    {
     "name": "stdout",
     "output_type": "stream",
     "text": [
      "26643\n",
      "19858\n"
     ]
    }
   ],
   "source": [
    "for i in c.execute(\"select distinct subid, sub, lecturer, day, period, semest from subs_4\"):\n",
    "    row_distinct_list.append(i)\n",
    "print(len(row_distinct_list))\n",
    "row_distinct_list_fin = list(set(row_distinct_list))\n",
    "print(len(row_distinct_list_fin))"
   ]
  },
  {
   "cell_type": "code",
   "execution_count": 82,
   "metadata": {},
   "outputs": [],
   "source": [
    "comm = 'insert into subs(subid, sub, lecturer, day, period, semest) values (?,?,?,?,?,?)'"
   ]
  },
  {
   "cell_type": "code",
   "execution_count": 83,
   "metadata": {},
   "outputs": [
    {
     "data": {
      "text/plain": [
       "<sqlite3.Cursor at 0x266937b2d50>"
      ]
     },
     "execution_count": 83,
     "metadata": {},
     "output_type": "execute_result"
    }
   ],
   "source": [
    "c.executemany(comm, row_distinct_list_fin)"
   ]
  },
  {
   "cell_type": "code",
   "execution_count": 85,
   "metadata": {},
   "outputs": [],
   "source": [
    "conn.commit()"
   ]
  },
  {
   "cell_type": "code",
   "execution_count": null,
   "metadata": {},
   "outputs": [],
   "source": [
    "for i in c.execute(r\"select * from subs where subid = 99999\"):\n",
    "    print(i)"
   ]
  },
  {
   "cell_type": "code",
   "execution_count": null,
   "metadata": {},
   "outputs": [],
   "source": []
  }
 ],
 "metadata": {
  "kernelspec": {
   "display_name": "Python 3",
   "language": "python",
   "name": "python3"
  },
  "language_info": {
   "codemirror_mode": {
    "name": "ipython",
    "version": 3
   },
   "file_extension": ".py",
   "mimetype": "text/x-python",
   "name": "python",
   "nbconvert_exporter": "python",
   "pygments_lexer": "ipython3",
   "version": "3.8.5"
  }
 },
 "nbformat": 4,
 "nbformat_minor": 4
}
