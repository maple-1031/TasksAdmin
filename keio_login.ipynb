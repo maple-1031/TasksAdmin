{
 "cells": [
  {
   "cell_type": "code",
   "execution_count": 13,
   "metadata": {},
   "outputs": [],
   "source": [
    "import time\n",
    "from selenium import webdriver\n",
    "import sqlite3\n",
    "from datetime import datetime as dt\n",
    "import os\n",
    "from pathlib import Path\n",
    "import sys\n",
    "import json"
   ]
  },
  {
   "cell_type": "code",
   "execution_count": 55,
   "metadata": {},
   "outputs": [],
   "source": [
    "class Report():\n",
    "    def __init__(self):\n",
    "        self.name = \"\"\n",
    "        self.deadline = \"\"\n",
    "        self.filename = \"\"\n",
    "        self.reportname = \"\"\n",
    "        \n",
    "    def subid2name(self, subid):\n",
    "        comm = f\"select * from subs where subid = {subid}\"\n",
    "        i = tuple(c.execute(comm))\n",
    "        return i[0][1]\n",
    "\n",
    "class Task():\n",
    "    def __init__(self):\n",
    "        self.path = \"\"\n",
    "        self.subject = \"\"\n",
    "        self.deadline = 0\n",
    "        self.deadline_str = \"\"\n",
    "        self.task_hash = \"\"\n",
    "        \n",
    "    def id_gen(self, data):\n",
    "        return int(data)+1\n",
    "\n",
    "    def deadline_gen(self, dl_str):\n",
    "        dl_pre_int = dt.strptime(dl_str, \"%Y-%m-%d %H:%M:%S\")\n",
    "        dl_int = dl_pre_int.timestamp()\n",
    "        return dl_int\n",
    "\n",
    "def getLatestDownloadedFileName(arg):\n",
    "    p = Path(arg)\n",
    "    files = list(p.glob(\"*\"))\n",
    "    file_updates = {file_path: os.stat(file_path).st_mtime for file_path in files}\n",
    "\n",
    "    newst_file_path = max(file_updates, key=file_updates.get)\n",
    "    return newst_file_path\n",
    "\n",
    "\n",
    "def dup_check(filename):\n",
    "    comm = f\"select * from files where file='{filename}'\"\n",
    "    if len(tuple(c.execute(comm))) == 0:\n",
    "        c.execute(f'insert into files values(\"{filename}\")')\n",
    "        return False\n",
    "    else:\n",
    "        return True\n",
    "\n",
    "chromeOptions = webdriver.ChromeOptions()\n",
    "prefs = {\"download.default_directory\" : r\"D:\\Users\\maple\\OneDrive - keio.jp\\★課題★\\.temp\"}\n",
    "chromeOptions.add_experimental_option(\"prefs\",prefs)"
   ]
  },
  {
   "cell_type": "code",
   "execution_count": 92,
   "metadata": {},
   "outputs": [],
   "source": [
    "conn = sqlite3.connect('subs_2020.db')\n",
    "c = conn.cursor()"
   ]
  },
  {
   "cell_type": "code",
   "execution_count": 7,
   "metadata": {},
   "outputs": [],
   "source": [
    "mail = \"maple_1031@keio.jp\"\n",
    "password = \"keio1031\"\n",
    "\n",
    "chrome_path = \"D:\\\\Users\\\\maple\\\\Python\\\\chromedriver_win32\\\\chromedriver.exe\"\n",
    "driver = webdriver.Chrome(executable_path=chrome_path, options=chromeOptions)\n",
    "driver.get('https://portal.keio.jp/koid/')\n",
    "time.sleep(1)\n",
    "search_box = driver.find_element_by_id(\"username\")\n",
    "search_box.send_keys(mail)\n",
    "pass_box = driver.find_element_by_id(\"password\")\n",
    "pass_box.send_keys(password)\n",
    "submit_bottun = driver.find_element_by_xpath(\"/html/body/div/div[1]/div/div/form/section[3]/button\")\n",
    "submit_bottun.click()\n",
    "time.sleep(0.5)\n",
    "\n",
    "seminor_botton = driver.find_element_by_id(\"ui-id-12\")\n",
    "seminor_botton.click()\n",
    "\n",
    "seminor_suport_button = driver.find_element_by_id(\"ui-id-51\")\n",
    "seminor_suport_button.click()\n",
    "\n",
    "driver.switch_to.window(driver.window_handles[1])\n",
    "time.sleep(0.5)\n",
    "\n",
    "driver.execute_script(\"window.scrollTo(0, document.body.scrollHeight);\")\n",
    "time.sleep(0.5)\n",
    "\n",
    "report_button = driver.find_elements_by_xpath(\"//form[@action=\\\"/ess2/reportAction\\\"]/button\")\n",
    "report_subid = driver.find_elements_by_xpath(\"//form[@action=\\\"/ess2/reportAction\\\"]/input[@name=\\\"SELECT_ENTNO\\\"]\")"
   ]
  },
  {
   "cell_type": "code",
   "execution_count": 95,
   "metadata": {},
   "outputs": [
    {
     "name": "stdout",
     "output_type": "stream",
     "text": [
      "[['応用解析第２', '2020-12-24 18:00:00', '応用解析第２試験解答（１０時４５分以降１８時まで）', ''], ['応用解析第２', '2020-12-24 10:45:00', '応用解析第２試験解答（１０時４５分まで）', ''], ['応用解析第２', '2020-12-19 23:50:00', 'レポート３', ''], ['応用解析第２', '2020-12-05 23:50:00', 'レポート２', ''], ['創造と倫理', '2020-12-31 00:00:00', 'やむを得ず欠席してしまった学生向けレポート', ''], ['創造と倫理', '2020-12-28 23:59:00', '最終レポート', ''], ['統計解析の基礎', '2020-10-31 00:00:00', 'Tentative', '']]\n"
     ]
    }
   ],
   "source": [
    "report_button = driver.find_elements_by_xpath(\"//form[@action=\\\"/ess2/reportAction\\\"]/button\")\n",
    "report_subid = driver.find_elements_by_xpath(\"//form[@action=\\\"/ess2/reportAction\\\"]/input[@name=\\\"SELECT_ENTNO\\\"]\")\n",
    "\n",
    "report_list = []\n",
    "\n",
    "for i in range(len(report_button)):\n",
    "    report_temp = []\n",
    "    report_button = driver.find_elements_by_xpath(\"//form[@action=\\\"/ess2/reportAction\\\"]/button\")\n",
    "    report_subid = driver.find_elements_by_xpath(\"//form[@action=\\\"/ess2/reportAction\\\"]/input[@name=\\\"SELECT_ENTNO\\\"]\")\n",
    "    report = Report()\n",
    "    argid = int(report_subid[i].get_attribute(\"value\"))\n",
    "    report.name = report.subid2name(argid)\n",
    "    report_button[i].click()\n",
    "    report.deadline = driver.find_element_by_xpath('//*[@id=\"student\"]/div[2]/div[1]/form/div[1]/div/div/div/div[2]/div[5]/div/p').text\n",
    "    temp = driver.find_element_by_xpath('//*[@id=\"student\"]/div[2]/div[1]/form/div[1]/div/div/div/div[2]/div[1]/div/p').text\n",
    "\n",
    "    \n",
    "    if not dup_check(temp):\n",
    "        try:\n",
    "            driver.find_element_by_xpath('//*[@name=\"BTN__DL\"]')\n",
    "        except:\n",
    "            report.filename = \"#\"\n",
    "        else:\n",
    "            driver.find_element_by_xpath('//*[@name=\"BTN__DL\"]').click()\n",
    "            try:\n",
    "                driver.find_element_by_xpath('//button[@onclick=\"agreeSubmit(\"#_DL\", \"\");\"]').click()\n",
    "            except:\n",
    "                pass\n",
    "            else:\n",
    "                pass\n",
    "\n",
    "            timeout_second = 5\n",
    "\n",
    "            for i in range(timeout_second + 1):\n",
    "                download_fileName = glob.glob(f'{downloadsFilePath}\\\\*.*')\n",
    "\n",
    "                if download_fileName:\n",
    "                    extension = os.path.splitext(download_fileName[0])\n",
    "\n",
    "                    if '.crdownload' not in extension[1] : break\n",
    "\n",
    "                if i >= timeout_second:\n",
    "                    driver.quit()\n",
    "                    shutil.rmtree(tmp_download_dir)\n",
    "                    sys.exit()\n",
    "\n",
    "                time.sleep(1)\n",
    "\n",
    "            report.filename = getLatestDownloadedFileName(downloadsFilePath)\n",
    "    report.reportname = temp\n",
    "    \n",
    "    report_temp = [report.name, report.deadline, report.reportname, report.filename]\n",
    "    report_list.append(report_temp)\n",
    "    \n",
    "    driver.find_element_by_xpath('//button[@name=\"BTN_JIKANWARI\"]').click()\n",
    "    \n",
    "print(report_list)"
   ]
  },
  {
   "cell_type": "code",
   "execution_count": 99,
   "metadata": {},
   "outputs": [
    {
     "data": {
      "text/plain": [
       "2290121610131828602"
      ]
     },
     "execution_count": 99,
     "metadata": {},
     "output_type": "execute_result"
    }
   ],
   "source": [
    "hash(\"\".join(report_list[0][:3]))"
   ]
  },
  {
   "cell_type": "code",
   "execution_count": 237,
   "metadata": {},
   "outputs": [],
   "source": [
    "conn = sqlite3.connect('current_tasks.db')\n",
    "\n",
    "c = conn.cursor()"
   ]
  },
  {
   "cell_type": "code",
   "execution_count": 88,
   "metadata": {},
   "outputs": [],
   "source": [
    "downloadsFilePath = r'D:\\Users\\maple\\OneDrive - keio.jp\\★課題★\\.temp'\n",
    "\n",
    "for i in report_list:\n",
    "    task = Task()\n",
    "    with open(\"current_tasks.json\") as f:\n",
    "        df = json.load(f)\n",
    "\n",
    "    task.path = i[3]\n",
    "    task.subject = i[0]\n",
    "    task.deadline = int(task.deadline_gen(i[1]))\n",
    "    task.deadline_str = i[1]\n",
    "    task.task_hash = hash(\"\".join(i[:3]))\n",
    "    temp_dict = {\"path\":task.path, \"subject\":task.subject, \"deadline_unix\":task.deadline, \"deadline_str\":task.deadline_str, \"task_hash\":task.task_hash}\n",
    "    if temp_dict not in list(df.values())[0]:\n",
    "        df[\"current_tasks\"].append(temp_dict)\n",
    "\n",
    "    with open(\"current_tasks.json\", \"w\") as f:\n",
    "        json.dump(df, f, indent=4)"
   ]
  },
  {
   "cell_type": "code",
   "execution_count": 102,
   "metadata": {},
   "outputs": [],
   "source": [
    "conn.close()"
   ]
  },
  {
   "cell_type": "code",
   "execution_count": 249,
   "metadata": {},
   "outputs": [
    {
     "data": {
      "text/plain": [
       "<selenium.webdriver.remote.webelement.WebElement (session=\"630f59a9f1ba3735c86bd869b4e124b8\", element=\"472e18c1-d200-4dfe-9ab3-2b12c074e160\")>"
      ]
     },
     "execution_count": 249,
     "metadata": {},
     "output_type": "execute_result"
    }
   ],
   "source": [
    "driver.find_element_by_xpath('//*[@id=\"student\"]/div[2]/div[1]/form/div[1]/div/div/div/div[2]/div[1]/div/p')"
   ]
  },
  {
   "cell_type": "code",
   "execution_count": 100,
   "metadata": {},
   "outputs": [
    {
     "name": "stdout",
     "output_type": "stream",
     "text": [
      "('応用解析第２試験解答（１０時４５分以降１８時まで）',)\n",
      "('応用解析第２試験解答（１０時４５分まで）',)\n",
      "('レポート３',)\n",
      "('レポート２',)\n",
      "('やむを得ず欠席してしまった学生向けレポート',)\n",
      "('最終レポート',)\n",
      "('Tentative',)\n"
     ]
    }
   ],
   "source": [
    "for i in c.execute(\"select * from files\"):\n",
    "    print(i)"
   ]
  },
  {
   "cell_type": "code",
   "execution_count": 326,
   "metadata": {},
   "outputs": [
    {
     "data": {
      "text/plain": [
       "<sqlite3.Cursor at 0x26b1c9a3ab0>"
      ]
     },
     "execution_count": 326,
     "metadata": {},
     "output_type": "execute_result"
    }
   ],
   "source": [
    "c.execute(\"insert into files values('aaa')\")"
   ]
  },
  {
   "cell_type": "code",
   "execution_count": 50,
   "metadata": {},
   "outputs": [
    {
     "data": {
      "text/plain": [
       "<sqlite3.Cursor at 0x1c8156a9dc0>"
      ]
     },
     "execution_count": 50,
     "metadata": {},
     "output_type": "execute_result"
    }
   ],
   "source": [
    "c.execute(\"delete from files\")"
   ]
  },
  {
   "cell_type": "code",
   "execution_count": 75,
   "metadata": {},
   "outputs": [
    {
     "data": {
      "text/plain": [
       "{'path': '#',\n",
       " 'subject': '応用解析第２',\n",
       " 'deadline_unix': 1608800400,\n",
       " 'deadline_str': '2020-12-24 18:00:00',\n",
       " 'task_hash': 2290121610131828602}"
      ]
     },
     "execution_count": 75,
     "metadata": {},
     "output_type": "execute_result"
    }
   ],
   "source": [
    "list(df.values())[0][0]"
   ]
  },
  {
   "cell_type": "code",
   "execution_count": 104,
   "metadata": {},
   "outputs": [],
   "source": [
    "with open(\"current_tasks.json\", mode=\"rt\", encoding=\"utf-8\") as f:\n",
    "    df = json.load(f)"
   ]
  },
  {
   "cell_type": "code",
   "execution_count": 105,
   "metadata": {},
   "outputs": [
    {
     "name": "stdout",
     "output_type": "stream",
     "text": [
      "{'current_tasks': [{'path': '', 'subject': '応用解析第２', 'deadline_unix': 1608800400, 'deadline_str': '2020-12-24 18:00:00', 'deadline_day_str': '2020-12-24', 'task_hash': 5475273046561075995}, {'path': '', 'subject': '応用解析第２', 'deadline_unix': 1608774300, 'deadline_str': '2020-12-24 10:45:00', 'deadline_day_str': '2020-12-24', 'task_hash': -4925489119067566978}, {'path': '', 'subject': '応用解析第２', 'deadline_unix': 1608389400, 'deadline_str': '2020-12-19 23:50:00', 'deadline_day_str': '2020-12-19', 'task_hash': 4490378651875545470}, {'path': '', 'subject': '応用解析第２', 'deadline_unix': 1607179800, 'deadline_str': '2020-12-05 23:50:00', 'deadline_day_str': '2020-12-05', 'task_hash': -7783411213281798483}, {'path': '', 'subject': '創造と倫理', 'deadline_unix': 1609340400, 'deadline_str': '2020-12-31 00:00:00', 'deadline_day_str': '2020-12-31', 'task_hash': -4685833743494414334}, {'path': '', 'subject': '創造と倫理', 'deadline_unix': 1609167540, 'deadline_str': '2020-12-28 23:59:00', 'deadline_day_str': '2020-12-28', 'task_hash': 8686477768320638590}, {'path': '', 'subject': '統計解析の基礎', 'deadline_unix': 1604070000, 'deadline_str': '2020-10-31 00:00:00', 'deadline_day_str': '2020-10-31', 'task_hash': 3449574417960392128}]}\n"
     ]
    }
   ],
   "source": [
    "print(df)"
   ]
  },
  {
   "cell_type": "code",
   "execution_count": 108,
   "metadata": {},
   "outputs": [
    {
     "name": "stdout",
     "output_type": "stream",
     "text": [
      "7\n"
     ]
    }
   ],
   "source": [
    "print(len(df[\"current_tasks\"]))"
   ]
  },
  {
   "cell_type": "code",
   "execution_count": 111,
   "metadata": {},
   "outputs": [
    {
     "ename": "AttributeError",
     "evalue": "type object 'datetime.datetime' has no attribute 'datetime'",
     "output_type": "error",
     "traceback": [
      "\u001b[1;31m---------------------------------------------------------------------------\u001b[0m",
      "\u001b[1;31mAttributeError\u001b[0m                            Traceback (most recent call last)",
      "\u001b[1;32m<ipython-input-111-9ee669f8fd62>\u001b[0m in \u001b[0;36m<module>\u001b[1;34m\u001b[0m\n\u001b[1;32m----> 1\u001b[1;33m \u001b[0mnow\u001b[0m \u001b[1;33m=\u001b[0m \u001b[0mdt\u001b[0m\u001b[1;33m.\u001b[0m\u001b[0mdatetime\u001b[0m\u001b[1;33m.\u001b[0m\u001b[0mnow\u001b[0m\u001b[1;33m(\u001b[0m\u001b[0mdt\u001b[0m\u001b[1;33m.\u001b[0m\u001b[0mtimezone\u001b[0m\u001b[1;33m(\u001b[0m\u001b[0mdt\u001b[0m\u001b[1;33m.\u001b[0m\u001b[0mtimedelta\u001b[0m\u001b[1;33m(\u001b[0m\u001b[0mhours\u001b[0m\u001b[1;33m=\u001b[0m\u001b[1;36m9\u001b[0m\u001b[1;33m)\u001b[0m\u001b[1;33m)\u001b[0m\u001b[1;33m)\u001b[0m\u001b[1;33m\u001b[0m\u001b[1;33m\u001b[0m\u001b[0m\n\u001b[0m",
      "\u001b[1;31mAttributeError\u001b[0m: type object 'datetime.datetime' has no attribute 'datetime'"
     ]
    }
   ],
   "source": [
    "now = dt.datetime.now(dt.timezone(dt.timedelta(hours=9)))"
   ]
  },
  {
   "cell_type": "code",
   "execution_count": 112,
   "metadata": {},
   "outputs": [
    {
     "data": {
      "text/plain": [
       "<function datetime.now(tz=None)>"
      ]
     },
     "execution_count": 112,
     "metadata": {},
     "output_type": "execute_result"
    }
   ],
   "source": [
    "dt.now"
   ]
  },
  {
   "cell_type": "code",
   "execution_count": 113,
   "metadata": {},
   "outputs": [
    {
     "name": "stdout",
     "output_type": "stream",
     "text": [
      "<built-in method now of type object at 0x00007FF9C213B530>\n"
     ]
    }
   ],
   "source": [
    "print(dt.now)"
   ]
  },
  {
   "cell_type": "code",
   "execution_count": 114,
   "metadata": {},
   "outputs": [
    {
     "ename": "AttributeError",
     "evalue": "'builtin_function_or_method' object has no attribute 'strftime'",
     "output_type": "error",
     "traceback": [
      "\u001b[1;31m---------------------------------------------------------------------------\u001b[0m",
      "\u001b[1;31mAttributeError\u001b[0m                            Traceback (most recent call last)",
      "\u001b[1;32m<ipython-input-114-33c9745acfcf>\u001b[0m in \u001b[0;36m<module>\u001b[1;34m\u001b[0m\n\u001b[1;32m----> 1\u001b[1;33m \u001b[0mdt\u001b[0m\u001b[1;33m.\u001b[0m\u001b[0mnow\u001b[0m\u001b[1;33m.\u001b[0m\u001b[0mstrftime\u001b[0m\u001b[1;33m(\u001b[0m\u001b[1;34m'%Y-%m-%d %H:%M:%S'\u001b[0m\u001b[1;33m)\u001b[0m\u001b[1;33m\u001b[0m\u001b[1;33m\u001b[0m\u001b[0m\n\u001b[0m",
      "\u001b[1;31mAttributeError\u001b[0m: 'builtin_function_or_method' object has no attribute 'strftime'"
     ]
    }
   ],
   "source": [
    "dt.now.strftime('%Y-%m-%d %H:%M:%S')"
   ]
  },
  {
   "cell_type": "code",
   "execution_count": null,
   "metadata": {},
   "outputs": [],
   "source": []
  }
 ],
 "metadata": {
  "kernelspec": {
   "display_name": "Python 3",
   "language": "python",
   "name": "python3"
  },
  "language_info": {
   "codemirror_mode": {
    "name": "ipython",
    "version": 3
   },
   "file_extension": ".py",
   "mimetype": "text/x-python",
   "name": "python",
   "nbconvert_exporter": "python",
   "pygments_lexer": "ipython3",
   "version": "3.8.5"
  }
 },
 "nbformat": 4,
 "nbformat_minor": 4
}
